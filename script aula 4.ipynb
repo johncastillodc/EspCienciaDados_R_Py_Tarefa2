{
 "cells": [
  {
   "cell_type": "markdown",
   "metadata": {},
   "source": [
    "# <font color='blue'> UNISINOS - ESPECIALIZAÇÃO EM BIGA DATA, DATA SCIENCE E DATA ANALYTICS\n",
    "\n",
    "##### <font color='blue'> PROFa. PATRICIA KUYVEN\n",
    "    \n",
    "## <font color='blue'> Grupo: Cesar Beck e John Castillo.\n",
    "    \n",
    "## Tarefa 02 - Análise Exploratória (German Credit Data)\n",
    "\n",
    "    Ver também: https://wiki.python.org.br/Tutorial_Python\n"
   ]
  },
  {
   "cell_type": "code",
   "execution_count": 55,
   "metadata": {},
   "outputs": [],
   "source": [
    "#Importanto bibliotecas\n",
    "import pandas as pd  \n",
    "import numpy as np\n",
    "import matplotlib.pyplot as plt\n"
   ]
  },
  {
   "cell_type": "markdown",
   "metadata": {},
   "source": [
    "## 1.1 Abrindo/lendo e manipulando bases de dados \n",
    "Ver:\n",
    "https://pandas.pydata.org/pandas-docs/stable/reference/frame.html\n"
   ]
  },
  {
   "cell_type": "code",
   "execution_count": 102,
   "metadata": {},
   "outputs": [
    {
     "ename": "ParserError",
     "evalue": "Error tokenizing data. C error: Expected 1 fields in line 123, saw 2\n",
     "output_type": "error",
     "traceback": [
      "\u001b[0;31m---------------------------------------------------------------------------\u001b[0m",
      "\u001b[0;31mParserError\u001b[0m                               Traceback (most recent call last)",
      "\u001b[0;32m<ipython-input-102-b861a986ebfb>\u001b[0m in \u001b[0;36m<module>\u001b[0;34m\u001b[0m\n\u001b[1;32m      1\u001b[0m \u001b[0;31m# lendo csv com o pandas\u001b[0m\u001b[0;34m\u001b[0m\u001b[0;34m\u001b[0m\u001b[0;34m\u001b[0m\u001b[0m\n\u001b[0;32m----> 2\u001b[0;31m \u001b[0mdataset\u001b[0m\u001b[0;34m=\u001b[0m\u001b[0mpd\u001b[0m\u001b[0;34m.\u001b[0m\u001b[0mread_csv\u001b[0m\u001b[0;34m(\u001b[0m\u001b[0;34m'file:germandataset.csv'\u001b[0m\u001b[0;34m,\u001b[0m \u001b[0msep\u001b[0m\u001b[0;34m=\u001b[0m\u001b[0;34m','\u001b[0m\u001b[0;34m)\u001b[0m\u001b[0;34m\u001b[0m\u001b[0;34m\u001b[0m\u001b[0m\n\u001b[0m\u001b[1;32m      3\u001b[0m \u001b[0mdataset\u001b[0m\u001b[0;34m\u001b[0m\u001b[0;34m\u001b[0m\u001b[0m\n",
      "\u001b[0;32m~/opt/anaconda3/lib/python3.7/site-packages/pandas/io/parsers.py\u001b[0m in \u001b[0;36mparser_f\u001b[0;34m(filepath_or_buffer, sep, delimiter, header, names, index_col, usecols, squeeze, prefix, mangle_dupe_cols, dtype, engine, converters, true_values, false_values, skipinitialspace, skiprows, skipfooter, nrows, na_values, keep_default_na, na_filter, verbose, skip_blank_lines, parse_dates, infer_datetime_format, keep_date_col, date_parser, dayfirst, cache_dates, iterator, chunksize, compression, thousands, decimal, lineterminator, quotechar, quoting, doublequote, escapechar, comment, encoding, dialect, error_bad_lines, warn_bad_lines, delim_whitespace, low_memory, memory_map, float_precision)\u001b[0m\n\u001b[1;32m    674\u001b[0m         )\n\u001b[1;32m    675\u001b[0m \u001b[0;34m\u001b[0m\u001b[0m\n\u001b[0;32m--> 676\u001b[0;31m         \u001b[0;32mreturn\u001b[0m \u001b[0m_read\u001b[0m\u001b[0;34m(\u001b[0m\u001b[0mfilepath_or_buffer\u001b[0m\u001b[0;34m,\u001b[0m \u001b[0mkwds\u001b[0m\u001b[0;34m)\u001b[0m\u001b[0;34m\u001b[0m\u001b[0;34m\u001b[0m\u001b[0m\n\u001b[0m\u001b[1;32m    677\u001b[0m \u001b[0;34m\u001b[0m\u001b[0m\n\u001b[1;32m    678\u001b[0m     \u001b[0mparser_f\u001b[0m\u001b[0;34m.\u001b[0m\u001b[0m__name__\u001b[0m \u001b[0;34m=\u001b[0m \u001b[0mname\u001b[0m\u001b[0;34m\u001b[0m\u001b[0;34m\u001b[0m\u001b[0m\n",
      "\u001b[0;32m~/opt/anaconda3/lib/python3.7/site-packages/pandas/io/parsers.py\u001b[0m in \u001b[0;36m_read\u001b[0;34m(filepath_or_buffer, kwds)\u001b[0m\n\u001b[1;32m    452\u001b[0m \u001b[0;34m\u001b[0m\u001b[0m\n\u001b[1;32m    453\u001b[0m     \u001b[0;32mtry\u001b[0m\u001b[0;34m:\u001b[0m\u001b[0;34m\u001b[0m\u001b[0;34m\u001b[0m\u001b[0m\n\u001b[0;32m--> 454\u001b[0;31m         \u001b[0mdata\u001b[0m \u001b[0;34m=\u001b[0m \u001b[0mparser\u001b[0m\u001b[0;34m.\u001b[0m\u001b[0mread\u001b[0m\u001b[0;34m(\u001b[0m\u001b[0mnrows\u001b[0m\u001b[0;34m)\u001b[0m\u001b[0;34m\u001b[0m\u001b[0;34m\u001b[0m\u001b[0m\n\u001b[0m\u001b[1;32m    455\u001b[0m     \u001b[0;32mfinally\u001b[0m\u001b[0;34m:\u001b[0m\u001b[0;34m\u001b[0m\u001b[0;34m\u001b[0m\u001b[0m\n\u001b[1;32m    456\u001b[0m         \u001b[0mparser\u001b[0m\u001b[0;34m.\u001b[0m\u001b[0mclose\u001b[0m\u001b[0;34m(\u001b[0m\u001b[0;34m)\u001b[0m\u001b[0;34m\u001b[0m\u001b[0;34m\u001b[0m\u001b[0m\n",
      "\u001b[0;32m~/opt/anaconda3/lib/python3.7/site-packages/pandas/io/parsers.py\u001b[0m in \u001b[0;36mread\u001b[0;34m(self, nrows)\u001b[0m\n\u001b[1;32m   1131\u001b[0m     \u001b[0;32mdef\u001b[0m \u001b[0mread\u001b[0m\u001b[0;34m(\u001b[0m\u001b[0mself\u001b[0m\u001b[0;34m,\u001b[0m \u001b[0mnrows\u001b[0m\u001b[0;34m=\u001b[0m\u001b[0;32mNone\u001b[0m\u001b[0;34m)\u001b[0m\u001b[0;34m:\u001b[0m\u001b[0;34m\u001b[0m\u001b[0;34m\u001b[0m\u001b[0m\n\u001b[1;32m   1132\u001b[0m         \u001b[0mnrows\u001b[0m \u001b[0;34m=\u001b[0m \u001b[0m_validate_integer\u001b[0m\u001b[0;34m(\u001b[0m\u001b[0;34m\"nrows\"\u001b[0m\u001b[0;34m,\u001b[0m \u001b[0mnrows\u001b[0m\u001b[0;34m)\u001b[0m\u001b[0;34m\u001b[0m\u001b[0;34m\u001b[0m\u001b[0m\n\u001b[0;32m-> 1133\u001b[0;31m         \u001b[0mret\u001b[0m \u001b[0;34m=\u001b[0m \u001b[0mself\u001b[0m\u001b[0;34m.\u001b[0m\u001b[0m_engine\u001b[0m\u001b[0;34m.\u001b[0m\u001b[0mread\u001b[0m\u001b[0;34m(\u001b[0m\u001b[0mnrows\u001b[0m\u001b[0;34m)\u001b[0m\u001b[0;34m\u001b[0m\u001b[0;34m\u001b[0m\u001b[0m\n\u001b[0m\u001b[1;32m   1134\u001b[0m \u001b[0;34m\u001b[0m\u001b[0m\n\u001b[1;32m   1135\u001b[0m         \u001b[0;31m# May alter columns / col_dict\u001b[0m\u001b[0;34m\u001b[0m\u001b[0;34m\u001b[0m\u001b[0;34m\u001b[0m\u001b[0m\n",
      "\u001b[0;32m~/opt/anaconda3/lib/python3.7/site-packages/pandas/io/parsers.py\u001b[0m in \u001b[0;36mread\u001b[0;34m(self, nrows)\u001b[0m\n\u001b[1;32m   2035\u001b[0m     \u001b[0;32mdef\u001b[0m \u001b[0mread\u001b[0m\u001b[0;34m(\u001b[0m\u001b[0mself\u001b[0m\u001b[0;34m,\u001b[0m \u001b[0mnrows\u001b[0m\u001b[0;34m=\u001b[0m\u001b[0;32mNone\u001b[0m\u001b[0;34m)\u001b[0m\u001b[0;34m:\u001b[0m\u001b[0;34m\u001b[0m\u001b[0;34m\u001b[0m\u001b[0m\n\u001b[1;32m   2036\u001b[0m         \u001b[0;32mtry\u001b[0m\u001b[0;34m:\u001b[0m\u001b[0;34m\u001b[0m\u001b[0;34m\u001b[0m\u001b[0m\n\u001b[0;32m-> 2037\u001b[0;31m             \u001b[0mdata\u001b[0m \u001b[0;34m=\u001b[0m \u001b[0mself\u001b[0m\u001b[0;34m.\u001b[0m\u001b[0m_reader\u001b[0m\u001b[0;34m.\u001b[0m\u001b[0mread\u001b[0m\u001b[0;34m(\u001b[0m\u001b[0mnrows\u001b[0m\u001b[0;34m)\u001b[0m\u001b[0;34m\u001b[0m\u001b[0;34m\u001b[0m\u001b[0m\n\u001b[0m\u001b[1;32m   2038\u001b[0m         \u001b[0;32mexcept\u001b[0m \u001b[0mStopIteration\u001b[0m\u001b[0;34m:\u001b[0m\u001b[0;34m\u001b[0m\u001b[0;34m\u001b[0m\u001b[0m\n\u001b[1;32m   2039\u001b[0m             \u001b[0;32mif\u001b[0m \u001b[0mself\u001b[0m\u001b[0;34m.\u001b[0m\u001b[0m_first_chunk\u001b[0m\u001b[0;34m:\u001b[0m\u001b[0;34m\u001b[0m\u001b[0;34m\u001b[0m\u001b[0m\n",
      "\u001b[0;32mpandas/_libs/parsers.pyx\u001b[0m in \u001b[0;36mpandas._libs.parsers.TextReader.read\u001b[0;34m()\u001b[0m\n",
      "\u001b[0;32mpandas/_libs/parsers.pyx\u001b[0m in \u001b[0;36mpandas._libs.parsers.TextReader._read_low_memory\u001b[0;34m()\u001b[0m\n",
      "\u001b[0;32mpandas/_libs/parsers.pyx\u001b[0m in \u001b[0;36mpandas._libs.parsers.TextReader._read_rows\u001b[0;34m()\u001b[0m\n",
      "\u001b[0;32mpandas/_libs/parsers.pyx\u001b[0m in \u001b[0;36mpandas._libs.parsers.TextReader._tokenize_rows\u001b[0;34m()\u001b[0m\n",
      "\u001b[0;32mpandas/_libs/parsers.pyx\u001b[0m in \u001b[0;36mpandas._libs.parsers.raise_parser_error\u001b[0;34m()\u001b[0m\n",
      "\u001b[0;31mParserError\u001b[0m: Error tokenizing data. C error: Expected 1 fields in line 123, saw 2\n"
     ]
    }
   ],
   "source": [
    "# lendo csv com o pandas  \n",
    "dataset=pd.read_csv('file:germandataset.csv', sep=',')\n",
    "dataset"
   ]
  },
  {
   "cell_type": "code",
   "execution_count": 91,
   "metadata": {},
   "outputs": [
    {
     "data": {
      "text/plain": [
       "Index(['A11 6 A34 A43 1169 A65 A75 4 A93 A101 4 A121 67 A143 A152 2 A173 1 A192 A201 1'], dtype='object')"
      ]
     },
     "execution_count": 91,
     "metadata": {},
     "output_type": "execute_result"
    }
   ],
   "source": [
    "# saber quais as colunas do dataset\n",
    "dataset.columns"
   ]
  },
  {
   "cell_type": "code",
   "execution_count": 62,
   "metadata": {},
   "outputs": [
    {
     "data": {
      "text/plain": [
       "curso                370\n",
       "disciplina           370\n",
       "grau_exig            370\n",
       "modalidade           370\n",
       "media_notas_ant      370\n",
       "num_disc_evadidas    370\n",
       "mensal_atraso        370\n",
       "sexo                 370\n",
       "idade                370\n",
       "dist                 370\n",
       "sem                  370\n",
       "tamanho_turma        370\n",
       "sit                  333\n",
       "dtype: int64"
      ]
     },
     "execution_count": 62,
     "metadata": {},
     "output_type": "execute_result"
    }
   ],
   "source": [
    "# saber quantas respostas tem em cada coluna do dataset\n",
    "dataset.count()\n",
    "#dataset['curso'].count()"
   ]
  },
  {
   "cell_type": "code",
   "execution_count": 63,
   "metadata": {},
   "outputs": [
    {
     "data": {
      "text/html": [
       "<div>\n",
       "<style scoped>\n",
       "    .dataframe tbody tr th:only-of-type {\n",
       "        vertical-align: middle;\n",
       "    }\n",
       "\n",
       "    .dataframe tbody tr th {\n",
       "        vertical-align: top;\n",
       "    }\n",
       "\n",
       "    .dataframe thead th {\n",
       "        text-align: right;\n",
       "    }\n",
       "</style>\n",
       "<table border=\"1\" class=\"dataframe\">\n",
       "  <thead>\n",
       "    <tr style=\"text-align: right;\">\n",
       "      <th></th>\n",
       "      <th>grau_exig</th>\n",
       "      <th>modalidade</th>\n",
       "      <th>num_disc_evadidas</th>\n",
       "      <th>mensal_atraso</th>\n",
       "      <th>idade</th>\n",
       "      <th>dist</th>\n",
       "      <th>sem</th>\n",
       "      <th>tamanho_turma</th>\n",
       "      <th>sit</th>\n",
       "    </tr>\n",
       "  </thead>\n",
       "  <tbody>\n",
       "    <tr>\n",
       "      <th>count</th>\n",
       "      <td>370.000000</td>\n",
       "      <td>370.000000</td>\n",
       "      <td>370.000000</td>\n",
       "      <td>370.000000</td>\n",
       "      <td>370.000000</td>\n",
       "      <td>370.000000</td>\n",
       "      <td>370.000000</td>\n",
       "      <td>370.000000</td>\n",
       "      <td>333.000000</td>\n",
       "    </tr>\n",
       "    <tr>\n",
       "      <th>mean</th>\n",
       "      <td>2.097297</td>\n",
       "      <td>1.254054</td>\n",
       "      <td>0.683784</td>\n",
       "      <td>0.872973</td>\n",
       "      <td>23.391892</td>\n",
       "      <td>1.578378</td>\n",
       "      <td>3.851351</td>\n",
       "      <td>34.335135</td>\n",
       "      <td>0.264264</td>\n",
       "    </tr>\n",
       "    <tr>\n",
       "      <th>std</th>\n",
       "      <td>0.878063</td>\n",
       "      <td>0.435918</td>\n",
       "      <td>1.198466</td>\n",
       "      <td>1.538159</td>\n",
       "      <td>3.793510</td>\n",
       "      <td>0.747583</td>\n",
       "      <td>1.928832</td>\n",
       "      <td>8.222918</td>\n",
       "      <td>0.441604</td>\n",
       "    </tr>\n",
       "    <tr>\n",
       "      <th>min</th>\n",
       "      <td>1.000000</td>\n",
       "      <td>1.000000</td>\n",
       "      <td>0.000000</td>\n",
       "      <td>0.000000</td>\n",
       "      <td>18.000000</td>\n",
       "      <td>1.000000</td>\n",
       "      <td>1.000000</td>\n",
       "      <td>20.000000</td>\n",
       "      <td>0.000000</td>\n",
       "    </tr>\n",
       "    <tr>\n",
       "      <th>25%</th>\n",
       "      <td>1.000000</td>\n",
       "      <td>1.000000</td>\n",
       "      <td>0.000000</td>\n",
       "      <td>0.000000</td>\n",
       "      <td>20.000000</td>\n",
       "      <td>1.000000</td>\n",
       "      <td>2.000000</td>\n",
       "      <td>27.250000</td>\n",
       "      <td>0.000000</td>\n",
       "    </tr>\n",
       "    <tr>\n",
       "      <th>50%</th>\n",
       "      <td>2.000000</td>\n",
       "      <td>1.000000</td>\n",
       "      <td>0.000000</td>\n",
       "      <td>0.000000</td>\n",
       "      <td>23.000000</td>\n",
       "      <td>1.000000</td>\n",
       "      <td>4.000000</td>\n",
       "      <td>35.000000</td>\n",
       "      <td>0.000000</td>\n",
       "    </tr>\n",
       "    <tr>\n",
       "      <th>75%</th>\n",
       "      <td>3.000000</td>\n",
       "      <td>2.000000</td>\n",
       "      <td>1.000000</td>\n",
       "      <td>1.000000</td>\n",
       "      <td>26.000000</td>\n",
       "      <td>2.000000</td>\n",
       "      <td>5.000000</td>\n",
       "      <td>41.000000</td>\n",
       "      <td>1.000000</td>\n",
       "    </tr>\n",
       "    <tr>\n",
       "      <th>max</th>\n",
       "      <td>3.000000</td>\n",
       "      <td>2.000000</td>\n",
       "      <td>7.000000</td>\n",
       "      <td>10.000000</td>\n",
       "      <td>37.000000</td>\n",
       "      <td>3.000000</td>\n",
       "      <td>7.000000</td>\n",
       "      <td>50.000000</td>\n",
       "      <td>1.000000</td>\n",
       "    </tr>\n",
       "  </tbody>\n",
       "</table>\n",
       "</div>"
      ],
      "text/plain": [
       "        grau_exig  modalidade  num_disc_evadidas  mensal_atraso       idade  \\\n",
       "count  370.000000  370.000000         370.000000     370.000000  370.000000   \n",
       "mean     2.097297    1.254054           0.683784       0.872973   23.391892   \n",
       "std      0.878063    0.435918           1.198466       1.538159    3.793510   \n",
       "min      1.000000    1.000000           0.000000       0.000000   18.000000   \n",
       "25%      1.000000    1.000000           0.000000       0.000000   20.000000   \n",
       "50%      2.000000    1.000000           0.000000       0.000000   23.000000   \n",
       "75%      3.000000    2.000000           1.000000       1.000000   26.000000   \n",
       "max      3.000000    2.000000           7.000000      10.000000   37.000000   \n",
       "\n",
       "             dist         sem  tamanho_turma         sit  \n",
       "count  370.000000  370.000000     370.000000  333.000000  \n",
       "mean     1.578378    3.851351      34.335135    0.264264  \n",
       "std      0.747583    1.928832       8.222918    0.441604  \n",
       "min      1.000000    1.000000      20.000000    0.000000  \n",
       "25%      1.000000    2.000000      27.250000    0.000000  \n",
       "50%      1.000000    4.000000      35.000000    0.000000  \n",
       "75%      2.000000    5.000000      41.000000    1.000000  \n",
       "max      3.000000    7.000000      50.000000    1.000000  "
      ]
     },
     "execution_count": 63,
     "metadata": {},
     "output_type": "execute_result"
    }
   ],
   "source": [
    "# estatísticas básicas das variáveis do dataset\n",
    "dataset.describe()"
   ]
  },
  {
   "cell_type": "code",
   "execution_count": 64,
   "metadata": {},
   "outputs": [
    {
     "data": {
      "text/plain": [
       "Métodos Estatísticos           102\n",
       "Gestão de Projetos              75\n",
       "Matemática financeira           53\n",
       "Cálculo A                       45\n",
       "Planejamento contábil           29\n",
       "Estratégias de marketing        28\n",
       "Comportamento do consumidor     23\n",
       "Cálculo B                       15\n",
       "Name: disciplina, dtype: int64"
      ]
     },
     "execution_count": 64,
     "metadata": {},
     "output_type": "execute_result"
    }
   ],
   "source": [
    "pd.value_counts(dataset['disciplina'])"
   ]
  },
  {
   "cell_type": "code",
   "execution_count": 65,
   "metadata": {},
   "outputs": [
    {
     "data": {
      "text/html": [
       "<div>\n",
       "<style scoped>\n",
       "    .dataframe tbody tr th:only-of-type {\n",
       "        vertical-align: middle;\n",
       "    }\n",
       "\n",
       "    .dataframe tbody tr th {\n",
       "        vertical-align: top;\n",
       "    }\n",
       "\n",
       "    .dataframe thead tr th {\n",
       "        text-align: left;\n",
       "    }\n",
       "</style>\n",
       "<table border=\"1\" class=\"dataframe\">\n",
       "  <thead>\n",
       "    <tr>\n",
       "      <th></th>\n",
       "      <th>disciplina</th>\n",
       "      <th>curso</th>\n",
       "      <th colspan=\"2\" halign=\"left\">tamanho_turma</th>\n",
       "    </tr>\n",
       "    <tr>\n",
       "      <th></th>\n",
       "      <th></th>\n",
       "      <th></th>\n",
       "      <th>mean</th>\n",
       "      <th>max</th>\n",
       "    </tr>\n",
       "  </thead>\n",
       "  <tbody>\n",
       "    <tr>\n",
       "      <th>0</th>\n",
       "      <td>Comportamento do consumidor</td>\n",
       "      <td>Administração</td>\n",
       "      <td>35.434783</td>\n",
       "      <td>50</td>\n",
       "    </tr>\n",
       "    <tr>\n",
       "      <th>1</th>\n",
       "      <td>Cálculo A</td>\n",
       "      <td>Administração</td>\n",
       "      <td>33.060606</td>\n",
       "      <td>43</td>\n",
       "    </tr>\n",
       "    <tr>\n",
       "      <th>2</th>\n",
       "      <td>Cálculo A</td>\n",
       "      <td>Engenharia de Produção</td>\n",
       "      <td>33.666667</td>\n",
       "      <td>43</td>\n",
       "    </tr>\n",
       "    <tr>\n",
       "      <th>3</th>\n",
       "      <td>Cálculo B</td>\n",
       "      <td>Engenharia de Produção</td>\n",
       "      <td>27.600000</td>\n",
       "      <td>42</td>\n",
       "    </tr>\n",
       "    <tr>\n",
       "      <th>4</th>\n",
       "      <td>Estratégias de marketing</td>\n",
       "      <td>Administração</td>\n",
       "      <td>35.035714</td>\n",
       "      <td>50</td>\n",
       "    </tr>\n",
       "    <tr>\n",
       "      <th>5</th>\n",
       "      <td>Gestão de Projetos</td>\n",
       "      <td>Administração</td>\n",
       "      <td>35.428571</td>\n",
       "      <td>50</td>\n",
       "    </tr>\n",
       "    <tr>\n",
       "      <th>6</th>\n",
       "      <td>Gestão de Projetos</td>\n",
       "      <td>Engenharia de Produção</td>\n",
       "      <td>31.400000</td>\n",
       "      <td>43</td>\n",
       "    </tr>\n",
       "    <tr>\n",
       "      <th>7</th>\n",
       "      <td>Gestão de Projetos</td>\n",
       "      <td>Gestão da Produção</td>\n",
       "      <td>36.400000</td>\n",
       "      <td>50</td>\n",
       "    </tr>\n",
       "    <tr>\n",
       "      <th>8</th>\n",
       "      <td>Matemática financeira</td>\n",
       "      <td>Administração</td>\n",
       "      <td>34.914286</td>\n",
       "      <td>43</td>\n",
       "    </tr>\n",
       "    <tr>\n",
       "      <th>9</th>\n",
       "      <td>Matemática financeira</td>\n",
       "      <td>Gestão da Produção</td>\n",
       "      <td>34.222222</td>\n",
       "      <td>43</td>\n",
       "    </tr>\n",
       "    <tr>\n",
       "      <th>10</th>\n",
       "      <td>Métodos Estatísticos</td>\n",
       "      <td>Administração</td>\n",
       "      <td>35.428571</td>\n",
       "      <td>50</td>\n",
       "    </tr>\n",
       "    <tr>\n",
       "      <th>11</th>\n",
       "      <td>Métodos Estatísticos</td>\n",
       "      <td>Engenharia de Produção</td>\n",
       "      <td>33.000000</td>\n",
       "      <td>43</td>\n",
       "    </tr>\n",
       "    <tr>\n",
       "      <th>12</th>\n",
       "      <td>Métodos Estatísticos</td>\n",
       "      <td>Gestão da Produção</td>\n",
       "      <td>34.903226</td>\n",
       "      <td>50</td>\n",
       "    </tr>\n",
       "    <tr>\n",
       "      <th>13</th>\n",
       "      <td>Planejamento contábil</td>\n",
       "      <td>Administração</td>\n",
       "      <td>34.068966</td>\n",
       "      <td>43</td>\n",
       "    </tr>\n",
       "  </tbody>\n",
       "</table>\n",
       "</div>"
      ],
      "text/plain": [
       "                     disciplina                   curso tamanho_turma    \n",
       "                                                                 mean max\n",
       "0   Comportamento do consumidor           Administração     35.434783  50\n",
       "1                     Cálculo A           Administração     33.060606  43\n",
       "2                     Cálculo A  Engenharia de Produção     33.666667  43\n",
       "3                     Cálculo B  Engenharia de Produção     27.600000  42\n",
       "4      Estratégias de marketing           Administração     35.035714  50\n",
       "5            Gestão de Projetos           Administração     35.428571  50\n",
       "6            Gestão de Projetos  Engenharia de Produção     31.400000  43\n",
       "7            Gestão de Projetos      Gestão da Produção     36.400000  50\n",
       "8         Matemática financeira           Administração     34.914286  43\n",
       "9         Matemática financeira      Gestão da Produção     34.222222  43\n",
       "10         Métodos Estatísticos           Administração     35.428571  50\n",
       "11         Métodos Estatísticos  Engenharia de Produção     33.000000  43\n",
       "12         Métodos Estatísticos      Gestão da Produção     34.903226  50\n",
       "13        Planejamento contábil           Administração     34.068966  43"
      ]
     },
     "execution_count": 65,
     "metadata": {},
     "output_type": "execute_result"
    }
   ],
   "source": [
    "#cruzamento de variáveis usando groupby: quali com quanti\n",
    "dataset_meanTTurma=dataset.groupby(['disciplina','curso'],as_index=False).agg({'tamanho_turma':['mean','max']})\n",
    "dataset_meanTTurma"
   ]
  },
  {
   "cell_type": "code",
   "execution_count": 66,
   "metadata": {
    "scrolled": true
   },
   "outputs": [],
   "source": [
    "# ler a bade de dados segundo um critério/filtro\n",
    "dt_gestao = dataset.loc[dataset['curso']==\"Gestão da Produção\"]"
   ]
  },
  {
   "cell_type": "code",
   "execution_count": 67,
   "metadata": {
    "scrolled": true
   },
   "outputs": [
    {
     "data": {
      "text/html": [
       "<div>\n",
       "<style scoped>\n",
       "    .dataframe tbody tr th:only-of-type {\n",
       "        vertical-align: middle;\n",
       "    }\n",
       "\n",
       "    .dataframe tbody tr th {\n",
       "        vertical-align: top;\n",
       "    }\n",
       "\n",
       "    .dataframe thead th {\n",
       "        text-align: right;\n",
       "    }\n",
       "</style>\n",
       "<table border=\"1\" class=\"dataframe\">\n",
       "  <thead>\n",
       "    <tr style=\"text-align: right;\">\n",
       "      <th></th>\n",
       "      <th>curso</th>\n",
       "      <th>disciplina</th>\n",
       "      <th>grau_exig</th>\n",
       "      <th>modalidade</th>\n",
       "      <th>media_notas_ant</th>\n",
       "      <th>num_disc_evadidas</th>\n",
       "      <th>mensal_atraso</th>\n",
       "      <th>sexo</th>\n",
       "      <th>idade</th>\n",
       "      <th>dist</th>\n",
       "      <th>sem</th>\n",
       "      <th>tamanho_turma</th>\n",
       "      <th>sit</th>\n",
       "    </tr>\n",
       "  </thead>\n",
       "  <tbody>\n",
       "    <tr>\n",
       "      <th>11</th>\n",
       "      <td>Gestão da Produção</td>\n",
       "      <td>Gestão de Projetos</td>\n",
       "      <td>1</td>\n",
       "      <td>1</td>\n",
       "      <td>5.7</td>\n",
       "      <td>0</td>\n",
       "      <td>0</td>\n",
       "      <td>F</td>\n",
       "      <td>20</td>\n",
       "      <td>2</td>\n",
       "      <td>2</td>\n",
       "      <td>35</td>\n",
       "      <td>0.0</td>\n",
       "    </tr>\n",
       "    <tr>\n",
       "      <th>39</th>\n",
       "      <td>Gestão da Produção</td>\n",
       "      <td>Gestão de Projetos</td>\n",
       "      <td>1</td>\n",
       "      <td>1</td>\n",
       "      <td>6.4</td>\n",
       "      <td>0</td>\n",
       "      <td>1</td>\n",
       "      <td>M</td>\n",
       "      <td>24</td>\n",
       "      <td>2</td>\n",
       "      <td>2</td>\n",
       "      <td>40</td>\n",
       "      <td>0.0</td>\n",
       "    </tr>\n",
       "    <tr>\n",
       "      <th>78</th>\n",
       "      <td>Gestão da Produção</td>\n",
       "      <td>Gestão de Projetos</td>\n",
       "      <td>1</td>\n",
       "      <td>1</td>\n",
       "      <td>6.6</td>\n",
       "      <td>0</td>\n",
       "      <td>1</td>\n",
       "      <td>M</td>\n",
       "      <td>21</td>\n",
       "      <td>1</td>\n",
       "      <td>1</td>\n",
       "      <td>25</td>\n",
       "      <td>1.0</td>\n",
       "    </tr>\n",
       "    <tr>\n",
       "      <th>81</th>\n",
       "      <td>Gestão da Produção</td>\n",
       "      <td>Gestão de Projetos</td>\n",
       "      <td>1</td>\n",
       "      <td>1</td>\n",
       "      <td>6.6</td>\n",
       "      <td>2</td>\n",
       "      <td>0</td>\n",
       "      <td>M</td>\n",
       "      <td>25</td>\n",
       "      <td>1</td>\n",
       "      <td>3</td>\n",
       "      <td>25</td>\n",
       "      <td>0.0</td>\n",
       "    </tr>\n",
       "    <tr>\n",
       "      <th>148</th>\n",
       "      <td>Gestão da Produção</td>\n",
       "      <td>Gestão de Projetos</td>\n",
       "      <td>1</td>\n",
       "      <td>1</td>\n",
       "      <td>7.3</td>\n",
       "      <td>0</td>\n",
       "      <td>0</td>\n",
       "      <td>F</td>\n",
       "      <td>20</td>\n",
       "      <td>1</td>\n",
       "      <td>3</td>\n",
       "      <td>40</td>\n",
       "      <td>0.0</td>\n",
       "    </tr>\n",
       "    <tr>\n",
       "      <th>163</th>\n",
       "      <td>Gestão da Produção</td>\n",
       "      <td>Gestão de Projetos</td>\n",
       "      <td>1</td>\n",
       "      <td>1</td>\n",
       "      <td>7.3</td>\n",
       "      <td>0</td>\n",
       "      <td>0</td>\n",
       "      <td>F</td>\n",
       "      <td>27</td>\n",
       "      <td>2</td>\n",
       "      <td>5</td>\n",
       "      <td>25</td>\n",
       "      <td>0.0</td>\n",
       "    </tr>\n",
       "    <tr>\n",
       "      <th>224</th>\n",
       "      <td>Gestão da Produção</td>\n",
       "      <td>Gestão de Projetos</td>\n",
       "      <td>1</td>\n",
       "      <td>1</td>\n",
       "      <td>7.9</td>\n",
       "      <td>2</td>\n",
       "      <td>0</td>\n",
       "      <td>M</td>\n",
       "      <td>24</td>\n",
       "      <td>1</td>\n",
       "      <td>1</td>\n",
       "      <td>35</td>\n",
       "      <td>1.0</td>\n",
       "    </tr>\n",
       "    <tr>\n",
       "      <th>268</th>\n",
       "      <td>Gestão da Produção</td>\n",
       "      <td>Gestão de Projetos</td>\n",
       "      <td>1</td>\n",
       "      <td>1</td>\n",
       "      <td>8.2</td>\n",
       "      <td>0</td>\n",
       "      <td>5</td>\n",
       "      <td>M</td>\n",
       "      <td>24</td>\n",
       "      <td>3</td>\n",
       "      <td>1</td>\n",
       "      <td>41</td>\n",
       "      <td>0.0</td>\n",
       "    </tr>\n",
       "    <tr>\n",
       "      <th>276</th>\n",
       "      <td>Gestão da Produção</td>\n",
       "      <td>Gestão de Projetos</td>\n",
       "      <td>1</td>\n",
       "      <td>1</td>\n",
       "      <td>8.2</td>\n",
       "      <td>1</td>\n",
       "      <td>0</td>\n",
       "      <td>F</td>\n",
       "      <td>19</td>\n",
       "      <td>1</td>\n",
       "      <td>4</td>\n",
       "      <td>37</td>\n",
       "      <td>1.0</td>\n",
       "    </tr>\n",
       "    <tr>\n",
       "      <th>306</th>\n",
       "      <td>Gestão da Produção</td>\n",
       "      <td>Gestão de Projetos</td>\n",
       "      <td>1</td>\n",
       "      <td>1</td>\n",
       "      <td>9,0</td>\n",
       "      <td>0</td>\n",
       "      <td>0</td>\n",
       "      <td>M</td>\n",
       "      <td>20</td>\n",
       "      <td>3</td>\n",
       "      <td>3</td>\n",
       "      <td>41</td>\n",
       "      <td>0.0</td>\n",
       "    </tr>\n",
       "  </tbody>\n",
       "</table>\n",
       "</div>"
      ],
      "text/plain": [
       "                  curso          disciplina  grau_exig  modalidade  \\\n",
       "11   Gestão da Produção  Gestão de Projetos          1           1   \n",
       "39   Gestão da Produção  Gestão de Projetos          1           1   \n",
       "78   Gestão da Produção  Gestão de Projetos          1           1   \n",
       "81   Gestão da Produção  Gestão de Projetos          1           1   \n",
       "148  Gestão da Produção  Gestão de Projetos          1           1   \n",
       "163  Gestão da Produção  Gestão de Projetos          1           1   \n",
       "224  Gestão da Produção  Gestão de Projetos          1           1   \n",
       "268  Gestão da Produção  Gestão de Projetos          1           1   \n",
       "276  Gestão da Produção  Gestão de Projetos          1           1   \n",
       "306  Gestão da Produção  Gestão de Projetos          1           1   \n",
       "\n",
       "    media_notas_ant  num_disc_evadidas  mensal_atraso sexo  idade  dist  sem  \\\n",
       "11              5.7                  0              0    F     20     2    2   \n",
       "39              6.4                  0              1    M     24     2    2   \n",
       "78              6.6                  0              1    M     21     1    1   \n",
       "81              6.6                  2              0    M     25     1    3   \n",
       "148             7.3                  0              0    F     20     1    3   \n",
       "163             7.3                  0              0    F     27     2    5   \n",
       "224             7.9                  2              0    M     24     1    1   \n",
       "268             8.2                  0              5    M     24     3    1   \n",
       "276             8.2                  1              0    F     19     1    4   \n",
       "306             9,0                  0              0    M     20     3    3   \n",
       "\n",
       "     tamanho_turma  sit  \n",
       "11              35  0.0  \n",
       "39              40  0.0  \n",
       "78              25  1.0  \n",
       "81              25  0.0  \n",
       "148             40  0.0  \n",
       "163             25  0.0  \n",
       "224             35  1.0  \n",
       "268             41  0.0  \n",
       "276             37  1.0  \n",
       "306             41  0.0  "
      ]
     },
     "execution_count": 67,
     "metadata": {},
     "output_type": "execute_result"
    }
   ],
   "source": [
    "# ler a base de dados segundo três critérios\n",
    "dataset.loc[(dataset['curso']==\"Gestão da Produção\") & ( dataset['modalidade'] == 1) & (dataset['grau_exig'] == 1)]"
   ]
  },
  {
   "cell_type": "code",
   "execution_count": 68,
   "metadata": {},
   "outputs": [
    {
     "data": {
      "text/html": [
       "<div>\n",
       "<style scoped>\n",
       "    .dataframe tbody tr th:only-of-type {\n",
       "        vertical-align: middle;\n",
       "    }\n",
       "\n",
       "    .dataframe tbody tr th {\n",
       "        vertical-align: top;\n",
       "    }\n",
       "\n",
       "    .dataframe thead th {\n",
       "        text-align: right;\n",
       "    }\n",
       "</style>\n",
       "<table border=\"1\" class=\"dataframe\">\n",
       "  <thead>\n",
       "    <tr style=\"text-align: right;\">\n",
       "      <th></th>\n",
       "      <th>curso</th>\n",
       "      <th>disciplina</th>\n",
       "      <th>grau_exig</th>\n",
       "      <th>modalidade</th>\n",
       "      <th>media_notas_ant</th>\n",
       "      <th>num_disc_evadidas</th>\n",
       "      <th>mensal_atraso</th>\n",
       "      <th>sexo</th>\n",
       "      <th>idade</th>\n",
       "      <th>dist</th>\n",
       "      <th>sem</th>\n",
       "      <th>tamanho_turma</th>\n",
       "      <th>sit</th>\n",
       "      <th>nova_variavel</th>\n",
       "    </tr>\n",
       "  </thead>\n",
       "  <tbody>\n",
       "    <tr>\n",
       "      <th>0</th>\n",
       "      <td>Administração</td>\n",
       "      <td>Estratégias de marketing</td>\n",
       "      <td>1</td>\n",
       "      <td>2</td>\n",
       "      <td>4.5</td>\n",
       "      <td>6</td>\n",
       "      <td>1</td>\n",
       "      <td>F</td>\n",
       "      <td>24</td>\n",
       "      <td>1</td>\n",
       "      <td>6</td>\n",
       "      <td>50</td>\n",
       "      <td>1.0</td>\n",
       "      <td>360</td>\n",
       "    </tr>\n",
       "    <tr>\n",
       "      <th>1</th>\n",
       "      <td>Gestão da Produção</td>\n",
       "      <td>Matemática financeira</td>\n",
       "      <td>2</td>\n",
       "      <td>1</td>\n",
       "      <td>4.6</td>\n",
       "      <td>7</td>\n",
       "      <td>2</td>\n",
       "      <td>F</td>\n",
       "      <td>25</td>\n",
       "      <td>1</td>\n",
       "      <td>3</td>\n",
       "      <td>35</td>\n",
       "      <td>1.0</td>\n",
       "      <td>375</td>\n",
       "    </tr>\n",
       "    <tr>\n",
       "      <th>2</th>\n",
       "      <td>Gestão da Produção</td>\n",
       "      <td>Métodos Estatísticos</td>\n",
       "      <td>3</td>\n",
       "      <td>2</td>\n",
       "      <td>4.8</td>\n",
       "      <td>5</td>\n",
       "      <td>4</td>\n",
       "      <td>M</td>\n",
       "      <td>22</td>\n",
       "      <td>3</td>\n",
       "      <td>4</td>\n",
       "      <td>33</td>\n",
       "      <td>1.0</td>\n",
       "      <td>330</td>\n",
       "    </tr>\n",
       "    <tr>\n",
       "      <th>3</th>\n",
       "      <td>Gestão da Produção</td>\n",
       "      <td>Matemática financeira</td>\n",
       "      <td>2</td>\n",
       "      <td>2</td>\n",
       "      <td>4.9</td>\n",
       "      <td>4</td>\n",
       "      <td>7</td>\n",
       "      <td>M</td>\n",
       "      <td>26</td>\n",
       "      <td>2</td>\n",
       "      <td>1</td>\n",
       "      <td>25</td>\n",
       "      <td>1.0</td>\n",
       "      <td>390</td>\n",
       "    </tr>\n",
       "    <tr>\n",
       "      <th>4</th>\n",
       "      <td>Gestão da Produção</td>\n",
       "      <td>Métodos Estatísticos</td>\n",
       "      <td>3</td>\n",
       "      <td>1</td>\n",
       "      <td>5.3</td>\n",
       "      <td>5</td>\n",
       "      <td>0</td>\n",
       "      <td>F</td>\n",
       "      <td>18</td>\n",
       "      <td>3</td>\n",
       "      <td>7</td>\n",
       "      <td>30</td>\n",
       "      <td>NaN</td>\n",
       "      <td>270</td>\n",
       "    </tr>\n",
       "    <tr>\n",
       "      <th>...</th>\n",
       "      <td>...</td>\n",
       "      <td>...</td>\n",
       "      <td>...</td>\n",
       "      <td>...</td>\n",
       "      <td>...</td>\n",
       "      <td>...</td>\n",
       "      <td>...</td>\n",
       "      <td>...</td>\n",
       "      <td>...</td>\n",
       "      <td>...</td>\n",
       "      <td>...</td>\n",
       "      <td>...</td>\n",
       "      <td>...</td>\n",
       "      <td>...</td>\n",
       "    </tr>\n",
       "    <tr>\n",
       "      <th>365</th>\n",
       "      <td>Administração</td>\n",
       "      <td>Comportamento do consumidor</td>\n",
       "      <td>1</td>\n",
       "      <td>1</td>\n",
       "      <td>9.4</td>\n",
       "      <td>0</td>\n",
       "      <td>3</td>\n",
       "      <td>F</td>\n",
       "      <td>29</td>\n",
       "      <td>2</td>\n",
       "      <td>7</td>\n",
       "      <td>20</td>\n",
       "      <td>NaN</td>\n",
       "      <td>435</td>\n",
       "    </tr>\n",
       "    <tr>\n",
       "      <th>366</th>\n",
       "      <td>Administração</td>\n",
       "      <td>Planejamento contábil</td>\n",
       "      <td>2</td>\n",
       "      <td>1</td>\n",
       "      <td>9.4</td>\n",
       "      <td>0</td>\n",
       "      <td>0</td>\n",
       "      <td>M</td>\n",
       "      <td>21</td>\n",
       "      <td>1</td>\n",
       "      <td>7</td>\n",
       "      <td>30</td>\n",
       "      <td>NaN</td>\n",
       "      <td>315</td>\n",
       "    </tr>\n",
       "    <tr>\n",
       "      <th>367</th>\n",
       "      <td>Gestão da Produção</td>\n",
       "      <td>Gestão de Projetos</td>\n",
       "      <td>1</td>\n",
       "      <td>2</td>\n",
       "      <td>9.6</td>\n",
       "      <td>0</td>\n",
       "      <td>0</td>\n",
       "      <td>M</td>\n",
       "      <td>19</td>\n",
       "      <td>2</td>\n",
       "      <td>1</td>\n",
       "      <td>20</td>\n",
       "      <td>0.0</td>\n",
       "      <td>285</td>\n",
       "    </tr>\n",
       "    <tr>\n",
       "      <th>368</th>\n",
       "      <td>Administração</td>\n",
       "      <td>Estratégias de marketing</td>\n",
       "      <td>1</td>\n",
       "      <td>2</td>\n",
       "      <td>9.6</td>\n",
       "      <td>0</td>\n",
       "      <td>0</td>\n",
       "      <td>M</td>\n",
       "      <td>28</td>\n",
       "      <td>1</td>\n",
       "      <td>4</td>\n",
       "      <td>20</td>\n",
       "      <td>0.0</td>\n",
       "      <td>420</td>\n",
       "    </tr>\n",
       "    <tr>\n",
       "      <th>369</th>\n",
       "      <td>Administração</td>\n",
       "      <td>Estratégias de marketing</td>\n",
       "      <td>1</td>\n",
       "      <td>2</td>\n",
       "      <td>9.6</td>\n",
       "      <td>1</td>\n",
       "      <td>0</td>\n",
       "      <td>F</td>\n",
       "      <td>18</td>\n",
       "      <td>2</td>\n",
       "      <td>4</td>\n",
       "      <td>20</td>\n",
       "      <td>0.0</td>\n",
       "      <td>270</td>\n",
       "    </tr>\n",
       "  </tbody>\n",
       "</table>\n",
       "<p>370 rows × 14 columns</p>\n",
       "</div>"
      ],
      "text/plain": [
       "                  curso                   disciplina  grau_exig  modalidade  \\\n",
       "0         Administração     Estratégias de marketing          1           2   \n",
       "1    Gestão da Produção        Matemática financeira          2           1   \n",
       "2    Gestão da Produção         Métodos Estatísticos          3           2   \n",
       "3    Gestão da Produção        Matemática financeira          2           2   \n",
       "4    Gestão da Produção         Métodos Estatísticos          3           1   \n",
       "..                  ...                          ...        ...         ...   \n",
       "365       Administração  Comportamento do consumidor          1           1   \n",
       "366       Administração        Planejamento contábil          2           1   \n",
       "367  Gestão da Produção           Gestão de Projetos          1           2   \n",
       "368       Administração     Estratégias de marketing          1           2   \n",
       "369       Administração     Estratégias de marketing          1           2   \n",
       "\n",
       "    media_notas_ant  num_disc_evadidas  mensal_atraso sexo  idade  dist  sem  \\\n",
       "0               4.5                  6              1    F     24     1    6   \n",
       "1               4.6                  7              2    F     25     1    3   \n",
       "2               4.8                  5              4    M     22     3    4   \n",
       "3               4.9                  4              7    M     26     2    1   \n",
       "4               5.3                  5              0    F     18     3    7   \n",
       "..              ...                ...            ...  ...    ...   ...  ...   \n",
       "365             9.4                  0              3    F     29     2    7   \n",
       "366             9.4                  0              0    M     21     1    7   \n",
       "367             9.6                  0              0    M     19     2    1   \n",
       "368             9.6                  0              0    M     28     1    4   \n",
       "369             9.6                  1              0    F     18     2    4   \n",
       "\n",
       "     tamanho_turma  sit  nova_variavel  \n",
       "0               50  1.0            360  \n",
       "1               35  1.0            375  \n",
       "2               33  1.0            330  \n",
       "3               25  1.0            390  \n",
       "4               30  NaN            270  \n",
       "..             ...  ...            ...  \n",
       "365             20  NaN            435  \n",
       "366             30  NaN            315  \n",
       "367             20  0.0            285  \n",
       "368             20  0.0            420  \n",
       "369             20  0.0            270  \n",
       "\n",
       "[370 rows x 14 columns]"
      ]
     },
     "execution_count": 68,
     "metadata": {},
     "output_type": "execute_result"
    }
   ],
   "source": [
    "# cria nova coluna a partir de outra\n",
    "dataset['nova_variavel'] = (dataset[\"idade\"]*15)\n",
    "dataset['nova_variavel']\n",
    "dataset['nova_variavel'].head(15)\n",
    "dataset"
   ]
  },
  {
   "cell_type": "code",
   "execution_count": 69,
   "metadata": {},
   "outputs": [
    {
     "data": {
      "text/plain": [
       "concluiu    245\n",
       "evadiu       88\n",
       "Name: sit_aluno, dtype: int64"
      ]
     },
     "execution_count": 69,
     "metadata": {},
     "output_type": "execute_result"
    }
   ],
   "source": [
    "#substituir valores de variáveis\n",
    "dataset['sit_aluno']=np.where(((dataset['sit']==0.0)),'concluiu',\n",
    "                              np.where(((dataset['sit']==1.0)),'evadiu',None))\n",
    "pd.value_counts(dataset['sit_aluno'])\n"
   ]
  },
  {
   "cell_type": "code",
   "execution_count": 70,
   "metadata": {},
   "outputs": [
    {
     "data": {
      "text/plain": [
       "0       Grande\n",
       "1      Pequena\n",
       "2      Pequena\n",
       "3      Pequena\n",
       "4      Pequena\n",
       "        ...   \n",
       "365    Pequena\n",
       "366    Pequena\n",
       "367    Pequena\n",
       "368    Pequena\n",
       "369    Pequena\n",
       "Name: categ_turma, Length: 370, dtype: object"
      ]
     },
     "execution_count": 70,
     "metadata": {},
     "output_type": "execute_result"
    }
   ],
   "source": [
    "# categorizar/agrupar respostas de uma variável \n",
    "categ_turma = []\n",
    "for i in dataset['tamanho_turma']:\n",
    "    if i <= 35: \n",
    "        categ_turma.append('Pequena')\n",
    "    elif i >35 and i <=45:\n",
    "        categ_turma.append('Média')\n",
    "    else:\n",
    "        categ_turma.append('Grande')\n",
    "\n",
    "dataset['categ_turma']=categ_turma\n",
    "\n",
    "\n",
    "dataset['categ_turma'] "
   ]
  },
  {
   "cell_type": "code",
   "execution_count": 71,
   "metadata": {},
   "outputs": [
    {
     "data": {
      "text/plain": [
       "Pequena    211\n",
       "Média      138\n",
       "Grande      21\n",
       "Name: categ_turma, dtype: int64"
      ]
     },
     "execution_count": 71,
     "metadata": {},
     "output_type": "execute_result"
    }
   ],
   "source": [
    "# Verificar a contagem dessa coluna\n",
    "pd.value_counts(dataset['categ_turma'])"
   ]
  },
  {
   "cell_type": "code",
   "execution_count": 72,
   "metadata": {},
   "outputs": [
    {
     "name": "stdout",
     "output_type": "stream",
     "text": [
      "Situação de evasão  0.0  1.0  All\n",
      "Tamanho da turma                 \n",
      "Grande                6   12   18\n",
      "Média                89   36  125\n",
      "Pequena             150   40  190\n",
      "All                 245   88  333\n"
     ]
    }
   ],
   "source": [
    "#Cruzamento de duas variáveis qualitativas\n",
    "print(pd.crosstab(dataset['categ_turma'], dataset['sit'],rownames=['Tamanho da turma'],colnames=['Situação de evasão'], margins=True))"
   ]
  },
  {
   "cell_type": "code",
   "execution_count": 73,
   "metadata": {},
   "outputs": [
    {
     "data": {
      "text/plain": [
       "Index(['curso', 'disciplina', 'grau_exig', 'modalidade', 'media_notas_ant',\n",
       "       'num_disc_evadidas', 'mensal_atraso', 'sexo', 'idade', 'dist', 'sem',\n",
       "       'tamanho_turma', 'sit', 'nova_variavel', 'sit_aluno', 'categ_turma'],\n",
       "      dtype='object')"
      ]
     },
     "execution_count": 73,
     "metadata": {},
     "output_type": "execute_result"
    }
   ],
   "source": [
    "dataset.columns"
   ]
  },
  {
   "cell_type": "code",
   "execution_count": null,
   "metadata": {},
   "outputs": [],
   "source": []
  },
  {
   "cell_type": "code",
   "execution_count": 74,
   "metadata": {
    "scrolled": true
   },
   "outputs": [
    {
     "data": {
      "text/plain": [
       "curso                 0\n",
       "disciplina            0\n",
       "grau_exig             0\n",
       "modalidade            0\n",
       "media_notas_ant       0\n",
       "num_disc_evadidas     0\n",
       "mensal_atraso         0\n",
       "sexo                  0\n",
       "idade                 0\n",
       "dist                  0\n",
       "sem                   0\n",
       "tamanho_turma         0\n",
       "sit                  37\n",
       "nova_variavel         0\n",
       "sit_aluno            37\n",
       "categ_turma           0\n",
       "dtype: int64"
      ]
     },
     "execution_count": 74,
     "metadata": {},
     "output_type": "execute_result"
    }
   ],
   "source": [
    "# Contagem de missing/nulos por coluna do dataset\n",
    "dataset.isnull().sum()"
   ]
  },
  {
   "cell_type": "markdown",
   "metadata": {},
   "source": [
    "## 1.4 Gráficos\n",
    "Ver: https://pandas.pydata.org/pandas-docs/stable/user_guide/visualization.html"
   ]
  },
  {
   "cell_type": "code",
   "execution_count": 75,
   "metadata": {},
   "outputs": [
    {
     "data": {
      "image/png": "[encoded data removed]",
      "text/plain": [
       "<Figure size 432x288 with 1 Axes>"
      ]
     },
     "metadata": {
      "needs_background": "light"
     },
     "output_type": "display_data"
    }
   ],
   "source": [
    "# gráfico de barras para frequências\n",
    "\n",
    "dataset.categ_turma.value_counts().plot(kind='bar')\n",
    "plt.show()"
   ]
  },
  {
   "cell_type": "code",
   "execution_count": 76,
   "metadata": {},
   "outputs": [
    {
     "data": {
      "image/png": "[encoded data removed]",
      "text/plain": [
       "<Figure size 432x288 with 1 Axes>"
      ]
     },
     "metadata": {
      "needs_background": "light"
     },
     "output_type": "display_data"
    }
   ],
   "source": [
    "# acrescentando títulos\n",
    "dataset.categ_turma.value_counts().plot(kind='bar')\n",
    "plt.title('Distrib. de frequências por tamamnho de turma')\n",
    "plt.xlabel('Tamanho da turma')\n",
    "plt.ylabel('Número de alunos')\n",
    "plt.show()"
   ]
  },
  {
   "cell_type": "code",
   "execution_count": 77,
   "metadata": {},
   "outputs": [
    {
     "data": {
      "text/plain": [
       "categ_turma\n",
       "Grande     0.761905\n",
       "Média      0.673913\n",
       "Pequena    0.682464\n",
       "Name: num_disc_evadidas, dtype: float64"
      ]
     },
     "execution_count": 77,
     "metadata": {},
     "output_type": "execute_result"
    }
   ],
   "source": [
    "dataset.groupby('categ_turma')['num_disc_evadidas'].mean()"
   ]
  },
  {
   "cell_type": "code",
   "execution_count": 78,
   "metadata": {},
   "outputs": [
    {
     "data": {
      "image/png": "[encoded data removed]",
      "text/plain": [
       "<Figure size 864x288 with 1 Axes>"
      ]
     },
     "metadata": {
      "needs_background": "light"
     },
     "output_type": "display_data"
    }
   ],
   "source": [
    "# cruzamento de variável quali com quanti\n",
    "# barras representado a média de uma variável quantitativa\n",
    "dataset.groupby('categ_turma')['num_disc_evadidas'].mean().plot(\n",
    "    kind='bar',figsize=(12, 4),color='#FF26E1' )\n",
    "plt.title('Número médio de disciplinas evadidas por tamamnho de turma',fontsize= 16)\n",
    "plt.xlabel('Tamanho da turma')\n",
    "plt.ylabel('Número médio de disciplinas evadidas')\n",
    "plt.show()\n"
   ]
  },
  {
   "cell_type": "code",
   "execution_count": 79,
   "metadata": {},
   "outputs": [
    {
     "data": {
      "text/plain": [
       "categ_turma\n",
       "Grande     0.761905\n",
       "Média      0.673913\n",
       "Pequena    0.682464\n",
       "Name: num_disc_evadidas, dtype: float64"
      ]
     },
     "execution_count": 79,
     "metadata": {},
     "output_type": "execute_result"
    }
   ],
   "source": [
    "dataset.groupby('categ_turma')['num_disc_evadidas'].mean()"
   ]
  },
  {
   "cell_type": "code",
   "execution_count": 80,
   "metadata": {},
   "outputs": [
    {
     "data": {
      "text/html": [
       "<div>\n",
       "<style scoped>\n",
       "    .dataframe tbody tr th:only-of-type {\n",
       "        vertical-align: middle;\n",
       "    }\n",
       "\n",
       "    .dataframe tbody tr th {\n",
       "        vertical-align: top;\n",
       "    }\n",
       "\n",
       "    .dataframe thead th {\n",
       "        text-align: right;\n",
       "    }\n",
       "</style>\n",
       "<table border=\"1\" class=\"dataframe\">\n",
       "  <thead>\n",
       "    <tr style=\"text-align: right;\">\n",
       "      <th>sit_aluno</th>\n",
       "      <th>concluiu</th>\n",
       "      <th>evadiu</th>\n",
       "      <th>perc_evad</th>\n",
       "    </tr>\n",
       "    <tr>\n",
       "      <th>categ_turma</th>\n",
       "      <th></th>\n",
       "      <th></th>\n",
       "      <th></th>\n",
       "    </tr>\n",
       "  </thead>\n",
       "  <tbody>\n",
       "    <tr>\n",
       "      <th>Grande</th>\n",
       "      <td>6</td>\n",
       "      <td>12</td>\n",
       "      <td>66.666667</td>\n",
       "    </tr>\n",
       "    <tr>\n",
       "      <th>Média</th>\n",
       "      <td>89</td>\n",
       "      <td>36</td>\n",
       "      <td>28.800000</td>\n",
       "    </tr>\n",
       "    <tr>\n",
       "      <th>Pequena</th>\n",
       "      <td>150</td>\n",
       "      <td>40</td>\n",
       "      <td>21.052632</td>\n",
       "    </tr>\n",
       "  </tbody>\n",
       "</table>\n",
       "</div>"
      ],
      "text/plain": [
       "sit_aluno    concluiu  evadiu  perc_evad\n",
       "categ_turma                             \n",
       "Grande              6      12  66.666667\n",
       "Média              89      36  28.800000\n",
       "Pequena           150      40  21.052632"
      ]
     },
     "execution_count": 80,
     "metadata": {},
     "output_type": "execute_result"
    },
    {
     "data": {
      "image/png": "[encoded data removed]",
      "text/plain": [
       "<Figure size 432x288 with 1 Axes>"
      ]
     },
     "metadata": {
      "needs_background": "light"
     },
     "output_type": "display_data"
    },
    {
     "data": {
      "image/png": "[encoded data removed]",
      "text/plain": [
       "<Figure size 432x288 with 1 Axes>"
      ]
     },
     "metadata": {
      "needs_background": "light"
     },
     "output_type": "display_data"
    }
   ],
   "source": [
    "pd.crosstab(dataset.categ_turma,dataset.sit_aluno).plot(kind='bar',figsize=(6, 4))\n",
    "plt.title('Tamanho da turma vs Situação do Aluno')\n",
    "dataset.groupby(['categ_turma','sit_aluno']).size().groupby(level=0).apply(\n",
    "    lambda x: 100 * x / x.sum()).unstack().plot(kind='bar',stacked=True,figsize=(6, 4))\n",
    "\n",
    "A=pd.crosstab(dataset['categ_turma'],dataset['sit_aluno'])\n",
    "A['perc_evad'] = A['evadiu']/(A['concluiu']+A['evadiu'])*100\n",
    "A"
   ]
  },
  {
   "cell_type": "code",
   "execution_count": 86,
   "metadata": {},
   "outputs": [
    {
     "data": {
      "text/plain": [
       "<matplotlib.axes._subplots.AxesSubplot at 0x7fb14c363e90>"
      ]
     },
     "execution_count": 86,
     "metadata": {},
     "output_type": "execute_result"
    },
    {
     "data": {
      "image/png": "[encoded data removed]",
      "text/plain": [
       "<Figure size 432x288 with 1 Axes>"
      ]
     },
     "metadata": {
      "needs_background": "light"
     },
     "output_type": "display_data"
    }
   ],
   "source": [
    "dataset.plot(x='idade',y='num_disc_evadidas',kind='scatter', title='Evasão anterior x  evasão atual',color='b')"
   ]
  },
  {
   "cell_type": "code",
   "execution_count": 82,
   "metadata": {},
   "outputs": [
    {
     "data": {
      "image/png": "[encoded data removed]",
      "text/plain": [
       "<Figure size 720x432 with 2 Axes>"
      ]
     },
     "metadata": {
      "needs_background": "light"
     },
     "output_type": "display_data"
    }
   ],
   "source": [
    "dataset['z'] = np.random.uniform(0, 3, 370)\n",
    "dataset.plot.hexbin(x='idade', y='num_disc_evadidas', C='z', reduce_C_function=np.max, gridsize=25,figsize=(10, 6))\n",
    "plt.title('Dispersão entre idade e disciplinas evadidas',fontsize= 16)\n",
    "plt.xlabel('Idade')\n",
    "plt.ylabel('Número de disciplinas evadidas')\n",
    "plt.show()"
   ]
  },
  {
   "cell_type": "code",
   "execution_count": 83,
   "metadata": {},
   "outputs": [
    {
     "data": {
      "text/plain": [
       "-0.05254388398024018"
      ]
     },
     "execution_count": 83,
     "metadata": {},
     "output_type": "execute_result"
    }
   ],
   "source": [
    "dataset['idade'].corr(dataset['num_disc_evadidas'])\n"
   ]
  },
  {
   "cell_type": "code",
   "execution_count": 84,
   "metadata": {},
   "outputs": [],
   "source": [
    "#salvar um arquivo csv:\n",
    "dataset.to_csv(\"bd_evasao_apos_aula4.csv\",index=False)"
   ]
  },
  {
   "cell_type": "markdown",
   "metadata": {},
   "source": [
    "Ver também: https://plotly.com/python/basic-charts/"
   ]
  }
 ],
 "metadata": {
  "kernelspec": {
   "display_name": "Python 3",
   "language": "python",
   "name": "python3"
  },
  "language_info": {
   "codemirror_mode": {
    "name": "ipython",
    "version": 3
   },
   "file_extension": ".py",
   "mimetype": "text/x-python",
   "name": "python",
   "nbconvert_exporter": "python",
   "pygments_lexer": "ipython3",
   "version": "3.7.6"
  }
 },
 "nbformat": 4,
 "nbformat_minor": 2
}
